{
  "nbformat": 4,
  "nbformat_minor": 0,
  "metadata": {
    "colab": {
      "provenance": [],
      "collapsed_sections": [
        "6-Dtwe5o5agu"
      ],
      "toc_visible": true,
      "include_colab_link": true
    },
    "kernelspec": {
      "name": "python3",
      "display_name": "Python 3"
    },
    "language_info": {
      "name": "python"
    }
  },
  "cells": [
    {
      "cell_type": "markdown",
      "metadata": {
        "id": "view-in-github",
        "colab_type": "text"
      },
      "source": [
        "<a href=\"https://colab.research.google.com/github/CaruntuRazvan/SNN-MNIST/blob/main/SNN_POC.ipynb\" target=\"_parent\"><img src=\"https://colab.research.google.com/assets/colab-badge.svg\" alt=\"Open In Colab\"/></a>"
      ]
    },
    {
      "cell_type": "markdown",
      "source": [
        "# 🧠 Spiking Neural Networks (SNNs) - Introducere\n",
        "\n",
        "Rețelele neuronale spiking (SNNs) reprezintă o clasă de modele inspirate biologic, care imită mai realist modul în care neuronii din creier procesează informația. Spre deosebire de rețelele neuronale clasice, care folosesc valori continue, SNN-urile transmit date prin impulsuri discrete de tip \"spike\" – similare semnalelor neuronale reale.\n",
        "\n",
        "## 🔬 Ce este un spike?\n",
        "\n",
        "Un \"spike\" este un impuls electric care apare atunci când potențialul de membrană al unui neuron atinge un prag critic. Într-o rețea SNN, fiecare neuron acumulează semnale de la alți neuroni și emite un spike doar dacă suma acestor semnale este suficient de mare.\n",
        "\n",
        "## ⚙️ Cum funcționează un SNN?\n",
        "\n",
        "- Neuronii au un potențial intern (membrane potential).\n",
        "- Informația este transmisă doar când acest potențial atinge un prag → se generează un spike.\n",
        "- Modele populare de neuroni: **LIF (Leaky Integrate-and-Fire)**, **IF (Integrate-and-Fire)**.\n",
        "- Informația este codificată în **momentul** în care apare spike-ul, nu doar în intensitatea semnalului.\n",
        "\n",
        "## 💡 De ce să folosim SNN-uri?\n",
        "\n",
        "| Avantaje                     | Limitări                         |\n",
        "|------------------------------|----------------------------------|\n",
        "| Eficiență energetică         | Mai greu de antrenat             |\n",
        "| Inspirație biologică         | Lipsa unor framework-uri mature |\n",
        "| Compatibile cu hardware neuromorfic | Necesită encoding special |\n",
        "\n",
        "## 🧪 Ce facem în acest notebook\n",
        "\n",
        "În acest notebook vom construi și antrena un model simplu SNN folosind biblioteca `SpikingJelly`. Vom folosi setul de date MNIST (imagini cu cifre scrise de mână), vom codifica imaginile în spike-uri și vom învăța rețeaua să le clasifice.\n",
        "\n",
        "---\n",
        "\n",
        "✅ Scopul este să demonstrăm că rețelele spiking pot fi folosite pentru sarcini clasice de clasificare, cu rezultate surprinzător de bune, chiar și cu un model simplu.\n",
        "\n"
      ],
      "metadata": {
        "id": "GIRQMo8Yig5J"
      }
    },
    {
      "cell_type": "markdown",
      "source": [
        "\n",
        "Importăm bibliotecile necesare, inclusiv SpikingJelly pentru rețelele spiking. De asemenea, alegem automat dacă folosim CPU sau GPU pentru antrenare. Definim și time_window, care indică câți timesteps vor fi simulați pentru fiecare imagine în encoderul Poisson."
      ],
      "metadata": {
        "id": "0p1-MNH6lnFZ"
      }
    },
    {
      "cell_type": "code",
      "source": [
        "!pip install spikingjelly"
      ],
      "metadata": {
        "colab": {
          "base_uri": "https://localhost:8080/"
        },
        "id": "rDdDpzounlDN",
        "outputId": "3f7480ee-f188-4641-f827-b8a88ba3d787"
      },
      "execution_count": null,
      "outputs": [
        {
          "output_type": "stream",
          "name": "stdout",
          "text": [
            "Collecting spikingjelly\n",
            "  Downloading spikingjelly-0.0.0.0.14-py3-none-any.whl.metadata (15 kB)\n",
            "Requirement already satisfied: torch in /usr/local/lib/python3.11/dist-packages (from spikingjelly) (2.6.0+cu124)\n",
            "Requirement already satisfied: matplotlib in /usr/local/lib/python3.11/dist-packages (from spikingjelly) (3.10.0)\n",
            "Requirement already satisfied: numpy in /usr/local/lib/python3.11/dist-packages (from spikingjelly) (2.0.2)\n",
            "Requirement already satisfied: tqdm in /usr/local/lib/python3.11/dist-packages (from spikingjelly) (4.67.1)\n",
            "Requirement already satisfied: torchvision in /usr/local/lib/python3.11/dist-packages (from spikingjelly) (0.21.0+cu124)\n",
            "Requirement already satisfied: scipy in /usr/local/lib/python3.11/dist-packages (from spikingjelly) (1.14.1)\n",
            "Requirement already satisfied: contourpy>=1.0.1 in /usr/local/lib/python3.11/dist-packages (from matplotlib->spikingjelly) (1.3.1)\n",
            "Requirement already satisfied: cycler>=0.10 in /usr/local/lib/python3.11/dist-packages (from matplotlib->spikingjelly) (0.12.1)\n",
            "Requirement already satisfied: fonttools>=4.22.0 in /usr/local/lib/python3.11/dist-packages (from matplotlib->spikingjelly) (4.56.0)\n",
            "Requirement already satisfied: kiwisolver>=1.3.1 in /usr/local/lib/python3.11/dist-packages (from matplotlib->spikingjelly) (1.4.8)\n",
            "Requirement already satisfied: packaging>=20.0 in /usr/local/lib/python3.11/dist-packages (from matplotlib->spikingjelly) (24.2)\n",
            "Requirement already satisfied: pillow>=8 in /usr/local/lib/python3.11/dist-packages (from matplotlib->spikingjelly) (11.1.0)\n",
            "Requirement already satisfied: pyparsing>=2.3.1 in /usr/local/lib/python3.11/dist-packages (from matplotlib->spikingjelly) (3.2.1)\n",
            "Requirement already satisfied: python-dateutil>=2.7 in /usr/local/lib/python3.11/dist-packages (from matplotlib->spikingjelly) (2.8.2)\n",
            "Requirement already satisfied: filelock in /usr/local/lib/python3.11/dist-packages (from torch->spikingjelly) (3.18.0)\n",
            "Requirement already satisfied: typing-extensions>=4.10.0 in /usr/local/lib/python3.11/dist-packages (from torch->spikingjelly) (4.12.2)\n",
            "Requirement already satisfied: networkx in /usr/local/lib/python3.11/dist-packages (from torch->spikingjelly) (3.4.2)\n",
            "Requirement already satisfied: jinja2 in /usr/local/lib/python3.11/dist-packages (from torch->spikingjelly) (3.1.6)\n",
            "Requirement already satisfied: fsspec in /usr/local/lib/python3.11/dist-packages (from torch->spikingjelly) (2025.3.0)\n",
            "Collecting nvidia-cuda-nvrtc-cu12==12.4.127 (from torch->spikingjelly)\n",
            "  Downloading nvidia_cuda_nvrtc_cu12-12.4.127-py3-none-manylinux2014_x86_64.whl.metadata (1.5 kB)\n",
            "Collecting nvidia-cuda-runtime-cu12==12.4.127 (from torch->spikingjelly)\n",
            "  Downloading nvidia_cuda_runtime_cu12-12.4.127-py3-none-manylinux2014_x86_64.whl.metadata (1.5 kB)\n",
            "Collecting nvidia-cuda-cupti-cu12==12.4.127 (from torch->spikingjelly)\n",
            "  Downloading nvidia_cuda_cupti_cu12-12.4.127-py3-none-manylinux2014_x86_64.whl.metadata (1.6 kB)\n",
            "Collecting nvidia-cudnn-cu12==9.1.0.70 (from torch->spikingjelly)\n",
            "  Downloading nvidia_cudnn_cu12-9.1.0.70-py3-none-manylinux2014_x86_64.whl.metadata (1.6 kB)\n",
            "Collecting nvidia-cublas-cu12==12.4.5.8 (from torch->spikingjelly)\n",
            "  Downloading nvidia_cublas_cu12-12.4.5.8-py3-none-manylinux2014_x86_64.whl.metadata (1.5 kB)\n",
            "Collecting nvidia-cufft-cu12==11.2.1.3 (from torch->spikingjelly)\n",
            "  Downloading nvidia_cufft_cu12-11.2.1.3-py3-none-manylinux2014_x86_64.whl.metadata (1.5 kB)\n",
            "Collecting nvidia-curand-cu12==10.3.5.147 (from torch->spikingjelly)\n",
            "  Downloading nvidia_curand_cu12-10.3.5.147-py3-none-manylinux2014_x86_64.whl.metadata (1.5 kB)\n",
            "Collecting nvidia-cusolver-cu12==11.6.1.9 (from torch->spikingjelly)\n",
            "  Downloading nvidia_cusolver_cu12-11.6.1.9-py3-none-manylinux2014_x86_64.whl.metadata (1.6 kB)\n",
            "Collecting nvidia-cusparse-cu12==12.3.1.170 (from torch->spikingjelly)\n",
            "  Downloading nvidia_cusparse_cu12-12.3.1.170-py3-none-manylinux2014_x86_64.whl.metadata (1.6 kB)\n",
            "Requirement already satisfied: nvidia-cusparselt-cu12==0.6.2 in /usr/local/lib/python3.11/dist-packages (from torch->spikingjelly) (0.6.2)\n",
            "Requirement already satisfied: nvidia-nccl-cu12==2.21.5 in /usr/local/lib/python3.11/dist-packages (from torch->spikingjelly) (2.21.5)\n",
            "Requirement already satisfied: nvidia-nvtx-cu12==12.4.127 in /usr/local/lib/python3.11/dist-packages (from torch->spikingjelly) (12.4.127)\n",
            "Collecting nvidia-nvjitlink-cu12==12.4.127 (from torch->spikingjelly)\n",
            "  Downloading nvidia_nvjitlink_cu12-12.4.127-py3-none-manylinux2014_x86_64.whl.metadata (1.5 kB)\n",
            "Requirement already satisfied: triton==3.2.0 in /usr/local/lib/python3.11/dist-packages (from torch->spikingjelly) (3.2.0)\n",
            "Requirement already satisfied: sympy==1.13.1 in /usr/local/lib/python3.11/dist-packages (from torch->spikingjelly) (1.13.1)\n",
            "Requirement already satisfied: mpmath<1.4,>=1.1.0 in /usr/local/lib/python3.11/dist-packages (from sympy==1.13.1->torch->spikingjelly) (1.3.0)\n",
            "Requirement already satisfied: six>=1.5 in /usr/local/lib/python3.11/dist-packages (from python-dateutil>=2.7->matplotlib->spikingjelly) (1.17.0)\n",
            "Requirement already satisfied: MarkupSafe>=2.0 in /usr/local/lib/python3.11/dist-packages (from jinja2->torch->spikingjelly) (3.0.2)\n",
            "Downloading spikingjelly-0.0.0.0.14-py3-none-any.whl (437 kB)\n",
            "\u001b[2K   \u001b[90m━━━━━━━━━━━━━━━━━━━━━━━━━━━━━━━━━━━━━━━━\u001b[0m \u001b[32m437.6/437.6 kB\u001b[0m \u001b[31m7.8 MB/s\u001b[0m eta \u001b[36m0:00:00\u001b[0m\n",
            "\u001b[?25hDownloading nvidia_cublas_cu12-12.4.5.8-py3-none-manylinux2014_x86_64.whl (363.4 MB)\n",
            "\u001b[2K   \u001b[90m━━━━━━━━━━━━━━━━━━━━━━━━━━━━━━━━━━━━━━━━\u001b[0m \u001b[32m363.4/363.4 MB\u001b[0m \u001b[31m4.4 MB/s\u001b[0m eta \u001b[36m0:00:00\u001b[0m\n",
            "\u001b[?25hDownloading nvidia_cuda_cupti_cu12-12.4.127-py3-none-manylinux2014_x86_64.whl (13.8 MB)\n",
            "\u001b[2K   \u001b[90m━━━━━━━━━━━━━━━━━━━━━━━━━━━━━━━━━━━━━━━━\u001b[0m \u001b[32m13.8/13.8 MB\u001b[0m \u001b[31m92.4 MB/s\u001b[0m eta \u001b[36m0:00:00\u001b[0m\n",
            "\u001b[?25hDownloading nvidia_cuda_nvrtc_cu12-12.4.127-py3-none-manylinux2014_x86_64.whl (24.6 MB)\n",
            "\u001b[2K   \u001b[90m━━━━━━━━━━━━━━━━━━━━━━━━━━━━━━━━━━━━━━━━\u001b[0m \u001b[32m24.6/24.6 MB\u001b[0m \u001b[31m73.8 MB/s\u001b[0m eta \u001b[36m0:00:00\u001b[0m\n",
            "\u001b[?25hDownloading nvidia_cuda_runtime_cu12-12.4.127-py3-none-manylinux2014_x86_64.whl (883 kB)\n",
            "\u001b[2K   \u001b[90m━━━━━━━━━━━━━━━━━━━━━━━━━━━━━━━━━━━━━━━━\u001b[0m \u001b[32m883.7/883.7 kB\u001b[0m \u001b[31m32.1 MB/s\u001b[0m eta \u001b[36m0:00:00\u001b[0m\n",
            "\u001b[?25hDownloading nvidia_cudnn_cu12-9.1.0.70-py3-none-manylinux2014_x86_64.whl (664.8 MB)\n",
            "\u001b[2K   \u001b[90m━━━━━━━━━━━━━━━━━━━━━━━━━━━━━━━━━━━━━━━━\u001b[0m \u001b[32m664.8/664.8 MB\u001b[0m \u001b[31m2.8 MB/s\u001b[0m eta \u001b[36m0:00:00\u001b[0m\n",
            "\u001b[?25hDownloading nvidia_cufft_cu12-11.2.1.3-py3-none-manylinux2014_x86_64.whl (211.5 MB)\n",
            "\u001b[2K   \u001b[90m━━━━━━━━━━━━━━━━━━━━━━━━━━━━━━━━━━━━━━━━\u001b[0m \u001b[32m211.5/211.5 MB\u001b[0m \u001b[31m6.0 MB/s\u001b[0m eta \u001b[36m0:00:00\u001b[0m\n",
            "\u001b[?25hDownloading nvidia_curand_cu12-10.3.5.147-py3-none-manylinux2014_x86_64.whl (56.3 MB)\n",
            "\u001b[2K   \u001b[90m━━━━━━━━━━━━━━━━━━━━━━━━━━━━━━━━━━━━━━━━\u001b[0m \u001b[32m56.3/56.3 MB\u001b[0m \u001b[31m15.8 MB/s\u001b[0m eta \u001b[36m0:00:00\u001b[0m\n",
            "\u001b[?25hDownloading nvidia_cusolver_cu12-11.6.1.9-py3-none-manylinux2014_x86_64.whl (127.9 MB)\n",
            "\u001b[2K   \u001b[90m━━━━━━━━━━━━━━━━━━━━━━━━━━━━━━━━━━━━━━━━\u001b[0m \u001b[32m127.9/127.9 MB\u001b[0m \u001b[31m7.3 MB/s\u001b[0m eta \u001b[36m0:00:00\u001b[0m\n",
            "\u001b[?25hDownloading nvidia_cusparse_cu12-12.3.1.170-py3-none-manylinux2014_x86_64.whl (207.5 MB)\n",
            "\u001b[2K   \u001b[90m━━━━━━━━━━━━━━━━━━━━━━━━━━━━━━━━━━━━━━━━\u001b[0m \u001b[32m207.5/207.5 MB\u001b[0m \u001b[31m6.0 MB/s\u001b[0m eta \u001b[36m0:00:00\u001b[0m\n",
            "\u001b[?25hDownloading nvidia_nvjitlink_cu12-12.4.127-py3-none-manylinux2014_x86_64.whl (21.1 MB)\n",
            "\u001b[2K   \u001b[90m━━━━━━━━━━━━━━━━━━━━━━━━━━━━━━━━━━━━━━━━\u001b[0m \u001b[32m21.1/21.1 MB\u001b[0m \u001b[31m59.5 MB/s\u001b[0m eta \u001b[36m0:00:00\u001b[0m\n",
            "\u001b[?25hInstalling collected packages: nvidia-nvjitlink-cu12, nvidia-curand-cu12, nvidia-cufft-cu12, nvidia-cuda-runtime-cu12, nvidia-cuda-nvrtc-cu12, nvidia-cuda-cupti-cu12, nvidia-cublas-cu12, nvidia-cusparse-cu12, nvidia-cudnn-cu12, nvidia-cusolver-cu12, spikingjelly\n",
            "  Attempting uninstall: nvidia-nvjitlink-cu12\n",
            "    Found existing installation: nvidia-nvjitlink-cu12 12.5.82\n",
            "    Uninstalling nvidia-nvjitlink-cu12-12.5.82:\n",
            "      Successfully uninstalled nvidia-nvjitlink-cu12-12.5.82\n",
            "  Attempting uninstall: nvidia-curand-cu12\n",
            "    Found existing installation: nvidia-curand-cu12 10.3.6.82\n",
            "    Uninstalling nvidia-curand-cu12-10.3.6.82:\n",
            "      Successfully uninstalled nvidia-curand-cu12-10.3.6.82\n",
            "  Attempting uninstall: nvidia-cufft-cu12\n",
            "    Found existing installation: nvidia-cufft-cu12 11.2.3.61\n",
            "    Uninstalling nvidia-cufft-cu12-11.2.3.61:\n",
            "      Successfully uninstalled nvidia-cufft-cu12-11.2.3.61\n",
            "  Attempting uninstall: nvidia-cuda-runtime-cu12\n",
            "    Found existing installation: nvidia-cuda-runtime-cu12 12.5.82\n",
            "    Uninstalling nvidia-cuda-runtime-cu12-12.5.82:\n",
            "      Successfully uninstalled nvidia-cuda-runtime-cu12-12.5.82\n",
            "  Attempting uninstall: nvidia-cuda-nvrtc-cu12\n",
            "    Found existing installation: nvidia-cuda-nvrtc-cu12 12.5.82\n",
            "    Uninstalling nvidia-cuda-nvrtc-cu12-12.5.82:\n",
            "      Successfully uninstalled nvidia-cuda-nvrtc-cu12-12.5.82\n",
            "  Attempting uninstall: nvidia-cuda-cupti-cu12\n",
            "    Found existing installation: nvidia-cuda-cupti-cu12 12.5.82\n",
            "    Uninstalling nvidia-cuda-cupti-cu12-12.5.82:\n",
            "      Successfully uninstalled nvidia-cuda-cupti-cu12-12.5.82\n",
            "  Attempting uninstall: nvidia-cublas-cu12\n",
            "    Found existing installation: nvidia-cublas-cu12 12.5.3.2\n",
            "    Uninstalling nvidia-cublas-cu12-12.5.3.2:\n",
            "      Successfully uninstalled nvidia-cublas-cu12-12.5.3.2\n",
            "  Attempting uninstall: nvidia-cusparse-cu12\n",
            "    Found existing installation: nvidia-cusparse-cu12 12.5.1.3\n",
            "    Uninstalling nvidia-cusparse-cu12-12.5.1.3:\n",
            "      Successfully uninstalled nvidia-cusparse-cu12-12.5.1.3\n",
            "  Attempting uninstall: nvidia-cudnn-cu12\n",
            "    Found existing installation: nvidia-cudnn-cu12 9.3.0.75\n",
            "    Uninstalling nvidia-cudnn-cu12-9.3.0.75:\n",
            "      Successfully uninstalled nvidia-cudnn-cu12-9.3.0.75\n",
            "  Attempting uninstall: nvidia-cusolver-cu12\n",
            "    Found existing installation: nvidia-cusolver-cu12 11.6.3.83\n",
            "    Uninstalling nvidia-cusolver-cu12-11.6.3.83:\n",
            "      Successfully uninstalled nvidia-cusolver-cu12-11.6.3.83\n",
            "Successfully installed nvidia-cublas-cu12-12.4.5.8 nvidia-cuda-cupti-cu12-12.4.127 nvidia-cuda-nvrtc-cu12-12.4.127 nvidia-cuda-runtime-cu12-12.4.127 nvidia-cudnn-cu12-9.1.0.70 nvidia-cufft-cu12-11.2.1.3 nvidia-curand-cu12-10.3.5.147 nvidia-cusolver-cu12-11.6.1.9 nvidia-cusparse-cu12-12.3.1.170 nvidia-nvjitlink-cu12-12.4.127 spikingjelly-0.0.0.0.14\n"
          ]
        }
      ]
    },
    {
      "cell_type": "markdown",
      "source": [
        "# Secțiune nouă"
      ],
      "metadata": {
        "id": "6-Dtwe5o5agu"
      }
    },
    {
      "cell_type": "code",
      "source": [
        "import torch\n",
        "import torchvision\n",
        "import torchvision.transforms as transforms\n",
        "from spikingjelly.clock_driven import neuron, functional, encoding, surrogate\n",
        "import torch.nn as nn\n",
        "\n",
        "device = torch.device(\"cuda\" if torch.cuda.is_available() else \"cpu\")\n",
        "time_window = 20\n"
      ],
      "metadata": {
        "id": "GNB1-t7qlyxR"
      },
      "execution_count": null,
      "outputs": []
    },
    {
      "cell_type": "markdown",
      "source": [
        "\n",
        "Definim o clasă PoissonEncoderWrapper, care aplică codarea Poisson de time_steps ori unei imagini de intrare. Această codare transformă o imagine statică într-o secvență de spike-uri binare pe mai mulți timesteps, simulând cum funcționează neuronii biologici."
      ],
      "metadata": {
        "id": "JAzKxHMWlzWu"
      }
    },
    {
      "cell_type": "code",
      "source": [
        "class PoissonEncoderWrapper(nn.Module):\n",
        "    def __init__(self, time_steps):\n",
        "        super().__init__()\n",
        "        self.encoder = encoding.PoissonEncoder()\n",
        "        self.time_steps = time_steps\n",
        "\n",
        "    def forward(self, x):\n",
        "        encoded = [self.encoder(x) for _ in range(self.time_steps)]\n",
        "        return torch.stack(encoded)\n"
      ],
      "metadata": {
        "id": "sFMm95E_lzvF"
      },
      "execution_count": null,
      "outputs": []
    },
    {
      "cell_type": "markdown",
      "source": [
        "\n",
        "Creăm o rețea neuronală spiking SimpleSNN formată din:două straturi complet conectate (FC), două layere de neuroni LIF (Leaky Integrate-and-Fire), o funcție surrogate (sigmoid) care face neuroni derivabili pentru backpropagation. Modelul parcurge toți timesteps-ii codării Poisson și acumulează răspunsurile neuronale pentru a face predicția.\n",
        "\n"
      ],
      "metadata": {
        "id": "c3S-hg46lz3_"
      }
    },
    {
      "cell_type": "code",
      "source": [
        "class SimpleSNN(nn.Module):\n",
        "    def __init__(self):\n",
        "        super().__init__()\n",
        "        self.flatten = nn.Flatten()\n",
        "        self.fc1 = nn.Linear(28*28, 100)\n",
        "        self.sn1 = neuron.LIFNode(surrogate_function=surrogate.Sigmoid())\n",
        "        self.fc2 = nn.Linear(100, 10)\n",
        "        self.sn2 = neuron.LIFNode(surrogate_function=surrogate.Sigmoid())\n",
        "\n",
        "    def forward(self, x):\n",
        "        mem = 0\n",
        "        for t in range(x.shape[0]):\n",
        "            out = self.flatten(x[t])\n",
        "            out = self.fc1(out)\n",
        "            out = self.sn1(out)\n",
        "            out = self.fc2(out)\n",
        "            out = self.sn2(out)\n",
        "            mem += out\n",
        "        return mem / x.shape[0]\n"
      ],
      "metadata": {
        "id": "xov91nRTlz_C"
      },
      "execution_count": null,
      "outputs": []
    },
    {
      "cell_type": "markdown",
      "source": [
        "Folosim torchvision pentru a descărca și preprocesa datasetul MNIST. Imaginile sunt convertite în tensori și normalizate. Folosim un DataLoader pentru a crea batch-uri de date ce vor fi folosite la antrenare.\n",
        "\n"
      ],
      "metadata": {
        "id": "b5_F0uaHl0GH"
      }
    },
    {
      "cell_type": "code",
      "source": [
        "transform = transforms.Compose([\n",
        "    transforms.ToTensor(),\n",
        "    transforms.Normalize((0.1307,), (0.3081,))\n",
        "])\n",
        "train_dataset = torchvision.datasets.MNIST('./data', train=True, transform=transform, download=True)\n",
        "train_loader = torch.utils.data.DataLoader(train_dataset, batch_size=128, shuffle=True)\n"
      ],
      "metadata": {
        "colab": {
          "base_uri": "https://localhost:8080/"
        },
        "id": "sdOqOpLLl0Mt",
        "outputId": "3bd86395-4cc5-44f3-a00b-74f63ebfc396"
      },
      "execution_count": null,
      "outputs": [
        {
          "output_type": "stream",
          "name": "stderr",
          "text": [
            "100%|██████████| 9.91M/9.91M [00:00<00:00, 52.4MB/s]\n",
            "100%|██████████| 28.9k/28.9k [00:00<00:00, 1.68MB/s]\n",
            "100%|██████████| 1.65M/1.65M [00:00<00:00, 13.6MB/s]\n",
            "100%|██████████| 4.54k/4.54k [00:00<00:00, 3.25MB/s]\n"
          ]
        }
      ]
    },
    {
      "cell_type": "markdown",
      "source": [
        "Instanțiem modelul SNN, encoderul Poisson, funcția de pierdere (CrossEntropy pentru clasificare multi-clasă) și optimizatorul Adam. Toate componentele sunt mutate pe dispozitivul disponibil (CPU sau GPU)."
      ],
      "metadata": {
        "id": "FkrGINsIl0TJ"
      }
    },
    {
      "cell_type": "code",
      "source": [
        "model = SimpleSNN().to(device)\n",
        "encoder = PoissonEncoderWrapper(time_window).to(device)\n",
        "optimizer = torch.optim.Adam(model.parameters(), lr=1e-3)\n",
        "loss_fn = nn.CrossEntropyLoss()\n"
      ],
      "metadata": {
        "id": "USbfT0Ugl0ZZ"
      },
      "execution_count": null,
      "outputs": []
    },
    {
      "cell_type": "markdown",
      "source": [
        "Pentru fiecare batch din dataset:\n",
        "\n",
        "* Se aplică encoderul Poisson.\n",
        "\n",
        "* Se face propagarea înainte prin rețea.\n",
        "\n",
        "* Se calculează pierderea și se face optimizarea parametrilor.\n",
        "\n",
        "* Se resetează stările interne ale neuronilor după fiecare batch.\n",
        "\n",
        "* Se afișează loss-ul la fiecare 100 de batch-uri pentru urmărirea progresului.\n",
        "\n"
      ],
      "metadata": {
        "id": "GEduFIYBmDhv"
      }
    },
    {
      "cell_type": "code",
      "source": [
        "print(\"🚀 Începem antrenarea pe întregul dataset MNIST...\")\n",
        "for batch_idx, (data, target) in enumerate(train_loader):\n",
        "    data, target = data.to(device), target.to(device)\n",
        "    encoded = encoder(data)\n",
        "    out = model(encoded)\n",
        "    loss = loss_fn(out, target)\n",
        "\n",
        "    optimizer.zero_grad()\n",
        "    loss.backward()\n",
        "    optimizer.step()\n",
        "    functional.reset_net(model)\n",
        "\n",
        "    if batch_idx % 100 == 0:\n",
        "        print(f\"🔁 Batch {batch_idx}/{len(train_loader)} - Loss: {loss.item():.4f}\")\n",
        "print(\"✅ Antrenare completă!\")"
      ],
      "metadata": {
        "colab": {
          "base_uri": "https://localhost:8080/"
        },
        "id": "Pm8PhEmWmDuu",
        "outputId": "2f9f9d08-d0bd-42a2-f7a2-7c277fec97a0"
      },
      "execution_count": null,
      "outputs": [
        {
          "output_type": "stream",
          "name": "stdout",
          "text": [
            "🚀 Începem antrenarea pe întregul dataset MNIST...\n",
            "🔁 Batch 0/469 - Loss: 2.3026\n",
            "🔁 Batch 100/469 - Loss: 1.6480\n",
            "🔁 Batch 200/469 - Loss: 1.5819\n",
            "🔁 Batch 300/469 - Loss: 1.5940\n",
            "🔁 Batch 400/469 - Loss: 1.5339\n",
            "✅ Antrenare completă!\n"
          ]
        }
      ]
    },
    {
      "cell_type": "markdown",
      "source": [
        "După finalizarea antrenării, salvăm greutățile modelului și encoderului într-un fișier .pth, pentru a putea fi încărcate ulterior în timpul inferenței sau pentru reantrenare.\n",
        "\n"
      ],
      "metadata": {
        "id": "MYE_-DA5mEu-"
      }
    },
    {
      "cell_type": "code",
      "source": [
        "torch.save(model.state_dict(), 'snn_model.pth')\n",
        "torch.save(encoder.state_dict(), 'snn_encoder.pth')\n",
        "print(\"💾 Modelul și encoderul au fost salvate.\")\n"
      ],
      "metadata": {
        "colab": {
          "base_uri": "https://localhost:8080/"
        },
        "id": "U8wNzon_mE03",
        "outputId": "3344c981-be60-4d60-a8c0-b3999260482c"
      },
      "execution_count": null,
      "outputs": [
        {
          "output_type": "stream",
          "name": "stdout",
          "text": [
            "💾 Modelul și encoderul au fost salvate.\n"
          ]
        }
      ]
    },
    {
      "cell_type": "markdown",
      "source": [
        "🧪 Testarea modelului pe setul de testare MNIST\n",
        "După finalizarea antrenării, evaluăm performanța modelului folosind datele de testare pentru a verifica cât de bine generalizează pe exemple nevăzute.\n",
        "\n",
        "🔍 Ce face codul:\n",
        "* Încarcă setul de testare MNIST și îl preprocesează la fel ca pe cel de antrenare (folosind transformările definite anterior).\n",
        "\n",
        "* Trecem modelul în modul de evaluare (model.eval()), astfel încât să se dezactiveze comportamentele specifice antrenării, cum ar fi dropout-ul.\n",
        "\n",
        "* Folosim torch.no_grad() pentru a opri calculul de gradient (nu avem nevoie de backpropagation în testare), ceea ce economisește memorie și accelerează rularea.\n",
        "\n",
        "Pentru fiecare batch de imagini:\n",
        "\n",
        "* Aplicăm encoderul Poisson pentru a genera spike-uri pe baza fiecărei imagini.\n",
        "\n",
        "* Propagăm spike-urile prin rețea.\n",
        "\n",
        "* Obținem predicția și o comparăm cu eticheta reală.\n",
        "\n",
        "* Contorizăm câte predicții sunt corecte.\n",
        "\n",
        "* Resetăm starea internă a neuronilor spiking cu functional.reset_net(model) pentru a evita interferența între batch-uri.\n",
        "\n",
        "La final, calculăm și afișăm acuratețea totală ca procent de imagini clasificate corect.\n"
      ],
      "metadata": {
        "id": "u2RUhxwdo9bp"
      }
    },
    {
      "cell_type": "code",
      "source": [
        "# 📦 Dataset de testare MNIST\n",
        "test_dataset = torchvision.datasets.MNIST('./data', train=False, transform=transform, download=True)\n",
        "test_loader = torch.utils.data.DataLoader(test_dataset, batch_size=128, shuffle=False)\n",
        "\n",
        "# 🔍 Evaluare acuratețe\n",
        "model.eval()\n",
        "correct = 0\n",
        "total = 0\n",
        "\n",
        "with torch.no_grad():\n",
        "    for data, target in test_loader:\n",
        "        data, target = data.to(device), target.to(device)\n",
        "        encoded = encoder(data)\n",
        "        outputs = model(encoded)\n",
        "        _, predicted = torch.max(outputs.data, 1)\n",
        "        total += target.size(0)\n",
        "        correct += (predicted == target).sum().item()\n",
        "        functional.reset_net(model)\n",
        "\n",
        "accuracy = 100 * correct / total\n",
        "print(f\"🎯 Acuratețea pe setul de testare MNIST: {accuracy:.2f}%\")\n"
      ],
      "metadata": {
        "colab": {
          "base_uri": "https://localhost:8080/"
        },
        "id": "Z6j9Z9OSo9xP",
        "outputId": "730e73c2-004b-4829-ec80-2137b3d3532c"
      },
      "execution_count": null,
      "outputs": [
        {
          "output_type": "stream",
          "name": "stdout",
          "text": [
            "🎯 Acuratețea pe setul de testare MNIST: 91.66%\n"
          ]
        }
      ]
    },
    {
      "cell_type": "markdown",
      "source": [
        "# 🖥️ Interfață interactivă cu Streamlit pentru clasificarea MNIST folosind SNN\n",
        "\n",
        "În această aplicație vom folosi o rețea neuronală spiking (SNN) antrenată pe MNIST pentru a crea o interfață interactivă cu utilizatorul. Scopul este să permitem testarea vizuală a modelului pe imagini reale din setul de test, într-un mod intuitiv și prietenos.\n",
        "\n",
        "---\n",
        "\n",
        "## ⚙️ Cum funcționează aplicația\n",
        "\n",
        "\n",
        "1. 🔌 Încarcă modelul antrenat SNN (`SimpleSNN`) și encoderul Poisson.\n",
        "2. 📦 Încarcă setul de date MNIST de testare, aplicând aceleași transformări ca la antrenare.\n",
        "3. 🖼️ Permite utilizatorului să apese pe butoane pentru a testa rețeaua pe imagini reale.\n",
        "\n",
        "---\n",
        "\n",
        "## 🔘 Funcționalități\n",
        "\n",
        "### 🔁 Testare pe 10 imagini aleatoare\n",
        "\n",
        "- Aplicația selectează aleatoriu 10 imagini din setul de test MNIST.\n",
        "- Fiecare imagine este transformată într-o serie de spike-uri folosind encoderul Poisson.\n",
        "- Modelul face inferența și clasifică fiecare imagine.\n",
        "- Se calculează acuratețea pentru acest mic batch.\n",
        "- Sunt afișate imaginile împreună cu predicțiile modelului și etichetele reale.\n",
        "\n",
        "---\n",
        "\n",
        "### ✅ Evaluare pe 100 de imagini\n",
        "\n",
        "- La apăsarea butonului, aplicația evaluează secvențial primele 100 de imagini din test set.\n",
        "- Pentru fiecare imagine:\n",
        "  - Se aplică encoderul Poisson.\n",
        "  - Se face inferența cu modelul.\n",
        "  - Se compară predicția cu eticheta corectă.\n",
        "- Se calculează și se afișează acuratețea finală pe cele 100 de imagini.\n",
        "\n",
        "---\n",
        "\n",
        "## ♻️ Resetarea neuronilor\n",
        "\n",
        "După fiecare imagine procesată, starea internă a neuronilor spiking este resetată cu `functional.reset_net(model)` pentru a preveni interferența între predicții. Acest pas este important deoarece neuronii rețin informații din timesteps anteriori.\n",
        "\n"
      ],
      "metadata": {
        "id": "Xs1lhhR9q0qv"
      }
    },
    {
      "cell_type": "code",
      "source": [
        "# app.py\n",
        "import streamlit as st\n",
        "import torch\n",
        "import torchvision\n",
        "import torchvision.transforms as transforms\n",
        "import matplotlib.pyplot as plt\n",
        "import numpy as np\n",
        "from spikingjelly.clock_driven import neuron, functional, encoding, surrogate\n",
        "import torch.nn as nn\n",
        "import random\n",
        "\n",
        "# 🔧 Configurare\n",
        "device = torch.device(\"cuda\" if torch.cuda.is_available() else \"cpu\")\n",
        "time_window = 20\n",
        "\n",
        "# 🔁 Encoder Poisson\n",
        "class PoissonEncoderWrapper(nn.Module):\n",
        "    def __init__(self, time_steps):\n",
        "        super().__init__()\n",
        "        self.encoder = encoding.PoissonEncoder()\n",
        "        self.time_steps = time_steps\n",
        "\n",
        "    def forward(self, x):\n",
        "        encoded = [self.encoder(x) for _ in range(self.time_steps)]\n",
        "        return torch.stack(encoded)\n",
        "\n",
        "# 🧠 Rețea SNN\n",
        "class SimpleSNN(nn.Module):\n",
        "    def __init__(self):\n",
        "        super().__init__()\n",
        "        self.flatten = nn.Flatten()\n",
        "        self.fc1 = nn.Linear(28*28, 100)\n",
        "        self.sn1 = neuron.LIFNode(surrogate_function=surrogate.Sigmoid())\n",
        "        self.fc2 = nn.Linear(100, 10)\n",
        "        self.sn2 = neuron.LIFNode(surrogate_function=surrogate.Sigmoid())\n",
        "\n",
        "    def forward(self, x):\n",
        "        mem = 0\n",
        "        for t in range(x.shape[0]):\n",
        "            out = self.flatten(x[t])\n",
        "            out = self.fc1(out)\n",
        "            out = self.sn1(out)\n",
        "            out = self.fc2(out)\n",
        "            out = self.sn2(out)\n",
        "            mem += out\n",
        "        return mem / x.shape[0]\n",
        "\n",
        "# 🔄 Transformare și date de test\n",
        "transform = transforms.Compose([\n",
        "    transforms.ToTensor(),\n",
        "    transforms.Normalize((0.1307,), (0.3081,))\n",
        "])\n",
        "test_dataset = torchvision.datasets.MNIST('./data', train=False, transform=transform, download=True)\n",
        "\n",
        "def get_random_samples(n=10):\n",
        "    indices = random.sample(range(len(test_dataset)), n)\n",
        "    images, labels = zip(*[test_dataset[i] for i in indices])\n",
        "    return torch.stack(images), torch.tensor(labels)\n",
        "\n",
        "# 🧠 Încarcă modelul și encoderul\n",
        "model = SimpleSNN().to(device)\n",
        "model.load_state_dict(torch.load('snn_model.pth', map_location=device))\n",
        "model.eval()\n",
        "\n",
        "encoder = PoissonEncoderWrapper(time_window).to(device)\n",
        "encoder.load_state_dict(torch.load('snn_encoder.pth', map_location=device))\n",
        "encoder.eval()\n",
        "\n",
        "# 🎨 Interfață Streamlit\n",
        "st.title(\"🧠 Clasificare MNIST cu SNN\")\n",
        "st.write(\"Acest demo folosește o rețea neuronală spiking (SNN) antrenată pe MNIST pentru a clasifica cifre.\")\n",
        "\n",
        "# 🔘 Buton 1: testare pe 10 imagini aleatoare\n",
        "if st.button(\"🔁 Testează 10 imagini aleatoare\"):\n",
        "    images, labels = get_random_samples(n=10)\n",
        "    images = images.to(device)\n",
        "    labels = labels.to(device)\n",
        "\n",
        "    encoded = encoder(images)\n",
        "    with torch.no_grad():\n",
        "        outputs = model(encoded)\n",
        "        predictions = torch.argmax(outputs, dim=1)\n",
        "\n",
        "    acc = (predictions == labels).sum().item() / len(labels)\n",
        "    st.success(f\"🎯 Acuratețea pe acest batch este: **{acc * 100:.2f}%**\")\n",
        "\n",
        "    # 🔢 Afișează imaginile\n",
        "    st.subheader(\"🔍 Imagini testate:\")\n",
        "    fig, axes = plt.subplots(2, 5, figsize=(10, 5))\n",
        "    axes = axes.flatten()\n",
        "    for i in range(10):\n",
        "        img = images[i].cpu().squeeze().numpy()\n",
        "        axes[i].imshow(img, cmap=\"gray\")\n",
        "        axes[i].set_title(f\"Pred: {predictions[i].item()}\\nLabel: {labels[i].item()}\")\n",
        "        axes[i].axis(\"off\")\n",
        "    st.pyplot(fig)\n",
        "\n",
        "# 🔘 Buton 2: testare completă pe 100 de imagini\n",
        "if st.button(\"✅ Evaluează pe 100 de imagini\"):\n",
        "    st.info(\"Se evaluează modelul pe 100 de imagini din setul de test...\")\n",
        "\n",
        "    correct = 0\n",
        "    total = 0\n",
        "\n",
        "    with torch.no_grad():\n",
        "        for i in range(100):\n",
        "            img, label = test_dataset[i]\n",
        "            data = img.unsqueeze(0).to(device)\n",
        "            encoded = encoder(data)\n",
        "            output = model(encoded)\n",
        "            pred = output.argmax().item()\n",
        "            if pred == label:\n",
        "                correct += 1\n",
        "            total += 1\n",
        "            functional.reset_net(model)\n",
        "\n",
        "    acc = correct / total * 100\n",
        "    st.success(f\"📊 Acuratețea pe 100 de imagini: **{acc:.2f}%**\")\n"
      ],
      "metadata": {
        "id": "4tGQnOmKPQCo",
        "colab": {
          "base_uri": "https://localhost:8080/"
        },
        "outputId": "199689d9-c243-423c-db58-f8949dd24742"
      },
      "execution_count": null,
      "outputs": [
        {
          "output_type": "stream",
          "name": "stderr",
          "text": [
            "2025-03-22 14:45:33.175 WARNING streamlit.runtime.scriptrunner_utils.script_run_context: Thread 'MainThread': missing ScriptRunContext! This warning can be ignored when running in bare mode.\n",
            "2025-03-22 14:45:33.585 \n",
            "  \u001b[33m\u001b[1mWarning:\u001b[0m to view this Streamlit app on a browser, run it with the following\n",
            "  command:\n",
            "\n",
            "    streamlit run /usr/local/lib/python3.11/dist-packages/colab_kernel_launcher.py [ARGUMENTS]\n",
            "2025-03-22 14:45:33.590 Thread 'MainThread': missing ScriptRunContext! This warning can be ignored when running in bare mode.\n",
            "2025-03-22 14:45:33.593 Thread 'MainThread': missing ScriptRunContext! This warning can be ignored when running in bare mode.\n",
            "2025-03-22 14:45:33.596 Thread 'MainThread': missing ScriptRunContext! This warning can be ignored when running in bare mode.\n",
            "2025-03-22 14:45:33.597 Thread 'MainThread': missing ScriptRunContext! This warning can be ignored when running in bare mode.\n",
            "2025-03-22 14:45:33.598 Thread 'MainThread': missing ScriptRunContext! This warning can be ignored when running in bare mode.\n",
            "2025-03-22 14:45:33.601 Thread 'MainThread': missing ScriptRunContext! This warning can be ignored when running in bare mode.\n",
            "2025-03-22 14:45:33.602 Thread 'MainThread': missing ScriptRunContext! This warning can be ignored when running in bare mode.\n",
            "2025-03-22 14:45:33.603 Thread 'MainThread': missing ScriptRunContext! This warning can be ignored when running in bare mode.\n",
            "2025-03-22 14:45:33.604 Thread 'MainThread': missing ScriptRunContext! This warning can be ignored when running in bare mode.\n",
            "2025-03-22 14:45:33.605 Thread 'MainThread': missing ScriptRunContext! This warning can be ignored when running in bare mode.\n",
            "2025-03-22 14:45:33.610 Thread 'MainThread': missing ScriptRunContext! This warning can be ignored when running in bare mode.\n",
            "2025-03-22 14:45:33.611 Thread 'MainThread': missing ScriptRunContext! This warning can be ignored when running in bare mode.\n",
            "2025-03-22 14:45:33.611 Thread 'MainThread': missing ScriptRunContext! This warning can be ignored when running in bare mode.\n",
            "2025-03-22 14:45:33.612 Thread 'MainThread': missing ScriptRunContext! This warning can be ignored when running in bare mode.\n",
            "2025-03-22 14:45:33.613 Thread 'MainThread': missing ScriptRunContext! This warning can be ignored when running in bare mode.\n"
          ]
        }
      ]
    },
    {
      "cell_type": "markdown",
      "source": [
        "•Capacitate crescută: Numărul de neuroni în stratul ascuns a fost mărit de la 100 la 256 (fc1 și fc2), ceea ce sporește capacitatea modelului de a captura pattern-uri complexe."
      ],
      "metadata": {
        "id": "6b5fq8x_2VZa"
      }
    },
    {
      "cell_type": "markdown",
      "source": [],
      "metadata": {
        "id": "WZ3ZZGYHqzpy"
      }
    },
    {
      "cell_type": "code",
      "source": [],
      "metadata": {
        "id": "Jl06_SdC2csE"
      },
      "execution_count": null,
      "outputs": []
    },
    {
      "cell_type": "markdown",
      "source": [
        "## Îmbunătățiri ale codului inițial\n",
        "\n",
        "Codul inițial a fost un punct de plecare bun, dar avea câteva limitări: antrenarea se făcea doar pe o singură epocă, nu exista evaluare pe setul de testare și arhitectura era relativ simplă. Am implementat mai multe optimizări pentru a crește performanța și a obține o evaluare mai clară a modelului. Iată ce am îmbunătățit, pas cu pas:"
      ],
      "metadata": {
        "id": "Qw2nV2HD0f6s"
      }
    },
    {
      "cell_type": "code",
      "source": [
        " # 256 neuroni în stratul ascuns\n",
        "class SimpleSNN(nn.Module):\n",
        "    def __init__(self):\n",
        "        super().__init__()\n",
        "        self.flatten = nn.Flatten()\n",
        "        self.fc1 = nn.Linear(28*28, 256)\n",
        "        self.sn1 = neuron.LIFNode(surrogate_function=surrogate.Sigmoid())\n",
        "        self.fc2 = nn.Linear(256, 10)\n",
        "        self.sn2 = neuron.LIFNode(surrogate_function=surrogate.Sigmoid())\n",
        "\n",
        "    def forward(self, x):\n",
        "        mem = 0\n",
        "        for t in range(x.shape[0]):\n",
        "            out = self.flatten(x[t])\n",
        "            out = self.fc1(out)\n",
        "            out = self.sn1(out)\n",
        "            out = self.fc2(out)\n",
        "            out = self.sn2(out)\n",
        "            mem += out\n",
        "        return mem / x.shape[0]"
      ],
      "metadata": {
        "id": "IslTfZy20zGz"
      },
      "execution_count": null,
      "outputs": []
    },
    {
      "cell_type": "code",
      "source": [
        "#Set de testare: Am adăugat test_dataset și test_loader\n",
        "transform = transforms.Compose([transforms.ToTensor(), transforms.Normalize((0.1307,), (0.3081,))])\n",
        "train_dataset = torchvision.datasets.MNIST('./data', train=True, transform=transform, download=True)\n",
        "train_loader = torch.utils.data.DataLoader(train_dataset, batch_size=64, shuffle=True)\n",
        "test_dataset = torchvision.datasets.MNIST('./data', train=False, transform=transform, download=True)\n",
        "test_loader = torch.utils.data.DataLoader(test_dataset, batch_size=64, shuffle=False)"
      ],
      "metadata": {
        "id": "B_jzEb991aDV"
      },
      "execution_count": null,
      "outputs": []
    },
    {
      "cell_type": "markdown",
      "source": [
        "- **Calcul acuratețe pe setul de testare**: Am introdus o funcție care calculează acuratețea pe setul de testare, oferind o metrică clară a performanței modelului pe date nevăzute. Această funcționalitate nu era prezentă în codul inițial, unde antrenarea se încheia fără o evaluare a rezultatelor."
      ],
      "metadata": {
        "id": "-xA_5HWr4OAe"
      }
    },
    {
      "cell_type": "code",
      "source": [
        "def evaluate(model, encoder, test_loader, device):\n",
        "    model.eval()\n",
        "    correct = 0\n",
        "    total = 0\n",
        "    with torch.no_grad():\n",
        "        for data, target in test_loader:\n",
        "            data, target = data.to(device), target.to(device)\n",
        "            encoded = encoder(data)\n",
        "            out = model(encoded)\n",
        "            pred = out.argmax(dim=1)\n",
        "            correct += (pred == target).sum().item()\n",
        "            total += target.size(0)\n",
        "            functional.reset_net(model)\n",
        "    accuracy = 100. * correct / total\n",
        "    print(f\"📊 Acuratețe: {accuracy:.2f}%\")\n",
        "    model.train()\n",
        "    return accuracy"
      ],
      "metadata": {
        "id": "5yRFIpxN2S6_"
      },
      "execution_count": null,
      "outputs": []
    },
    {
      "cell_type": "markdown",
      "source": [],
      "metadata": {
        "id": "k-BI0C9d4MdC"
      }
    },
    {
      "cell_type": "markdown",
      "source": [
        "- **Epoci multiple**: Am adăugat o buclă peste 5 epoci (`n_epochs = 5`), față de o singură trecere în codul inițial. Acest lucru permite modelului să învețe mai bine prin rafinarea greutăților pe parcursul mai multor iterații peste setul de date.\n",
        "- **Evaluare per epocă**: După fiecare epocă, rulez funcția `evaluate`, ceea ce îți arată progresul acurateței în timp real. Această funcționalitate lipsea în codul inițial, unde nu exista nicio metrică de performanță post-antrenare."
      ],
      "metadata": {
        "id": "VnNG-AFX36Me"
      }
    },
    {
      "cell_type": "code",
      "source": [
        "n_epochs = 5\n",
        "for epoch in range(n_epochs):\n",
        "    print(f\"🌟 Epoca {epoch + 1}/{n_epochs}\")\n",
        "    for batch_idx, (data, target) in enumerate(train_loader):\n",
        "        data, target = data.to(device), target.to(device)\n",
        "        encoded = encoder(data)\n",
        "        out = model(encoded)\n",
        "        loss = loss_fn(out, target)\n",
        "\n",
        "        optimizer.zero_grad()\n",
        "        loss.backward()\n",
        "        optimizer.step()\n",
        "        functional.reset_net(model)\n",
        "\n",
        "        if batch_idx % 100 == 0:\n",
        "            print(f\"🔁 Batch {batch_idx}/{len(train_loader)} - Loss: {loss.item():.4f}\")"
      ],
      "metadata": {
        "colab": {
          "base_uri": "https://localhost:8080/"
        },
        "id": "43a4oWkU1oYG",
        "outputId": "de864b7c-834f-4d2d-d94d-ea0cacfd030c"
      },
      "execution_count": null,
      "outputs": [
        {
          "output_type": "stream",
          "name": "stdout",
          "text": [
            "🌟 Epoca 1/5\n",
            "🔁 Batch 0/938 - Loss: 1.5227\n",
            "🔁 Batch 100/938 - Loss: 1.5621\n",
            "🔁 Batch 200/938 - Loss: 1.5357\n",
            "🔁 Batch 300/938 - Loss: 1.4955\n",
            "🔁 Batch 400/938 - Loss: 1.5670\n",
            "🔁 Batch 500/938 - Loss: 1.4938\n",
            "🔁 Batch 600/938 - Loss: 1.4794\n",
            "🔁 Batch 700/938 - Loss: 1.5018\n",
            "🔁 Batch 800/938 - Loss: 1.5413\n",
            "🔁 Batch 900/938 - Loss: 1.5476\n",
            "🌟 Epoca 2/5\n",
            "🔁 Batch 0/938 - Loss: 1.5011\n",
            "🔁 Batch 100/938 - Loss: 1.4919\n",
            "🔁 Batch 200/938 - Loss: 1.5174\n",
            "🔁 Batch 300/938 - Loss: 1.4863\n",
            "🔁 Batch 400/938 - Loss: 1.4840\n",
            "🔁 Batch 500/938 - Loss: 1.5213\n",
            "🔁 Batch 600/938 - Loss: 1.5048\n",
            "🔁 Batch 700/938 - Loss: 1.4931\n",
            "🔁 Batch 800/938 - Loss: 1.5552\n",
            "🔁 Batch 900/938 - Loss: 1.5273\n",
            "🌟 Epoca 3/5\n",
            "🔁 Batch 0/938 - Loss: 1.4783\n",
            "🔁 Batch 100/938 - Loss: 1.5162\n",
            "🔁 Batch 200/938 - Loss: 1.4915\n",
            "🔁 Batch 300/938 - Loss: 1.5084\n",
            "🔁 Batch 400/938 - Loss: 1.5007\n",
            "🔁 Batch 500/938 - Loss: 1.5144\n",
            "🔁 Batch 600/938 - Loss: 1.4849\n",
            "🔁 Batch 700/938 - Loss: 1.4978\n",
            "🔁 Batch 800/938 - Loss: 1.5003\n",
            "🔁 Batch 900/938 - Loss: 1.4925\n",
            "🌟 Epoca 4/5\n",
            "🔁 Batch 0/938 - Loss: 1.4916\n",
            "🔁 Batch 100/938 - Loss: 1.5012\n",
            "🔁 Batch 200/938 - Loss: 1.4936\n",
            "🔁 Batch 300/938 - Loss: 1.4782\n",
            "🔁 Batch 400/938 - Loss: 1.4932\n",
            "🔁 Batch 500/938 - Loss: 1.4928\n",
            "🔁 Batch 600/938 - Loss: 1.5250\n",
            "🔁 Batch 700/938 - Loss: 1.4701\n",
            "🔁 Batch 800/938 - Loss: 1.5154\n",
            "🔁 Batch 900/938 - Loss: 1.4762\n",
            "🌟 Epoca 5/5\n",
            "🔁 Batch 0/938 - Loss: 1.5204\n",
            "🔁 Batch 100/938 - Loss: 1.4821\n",
            "🔁 Batch 200/938 - Loss: 1.4794\n",
            "🔁 Batch 300/938 - Loss: 1.4914\n",
            "🔁 Batch 400/938 - Loss: 1.5058\n",
            "🔁 Batch 500/938 - Loss: 1.4792\n",
            "🔁 Batch 600/938 - Loss: 1.4787\n",
            "🔁 Batch 700/938 - Loss: 1.4766\n",
            "🔁 Batch 800/938 - Loss: 1.5255\n",
            "🔁 Batch 900/938 - Loss: 1.4967\n"
          ]
        }
      ]
    },
    {
      "cell_type": "code",
      "source": [
        "evaluate(model, encoder, test_loader, device)"
      ],
      "metadata": {
        "colab": {
          "base_uri": "https://localhost:8080/"
        },
        "id": "6FxZPHiY8XL_",
        "outputId": "aff9f7a8-1fc5-4fe1-92d3-445bab2922dd"
      },
      "execution_count": null,
      "outputs": [
        {
          "output_type": "stream",
          "name": "stdout",
          "text": [
            "📊 Acuratețe: 96.09%\n"
          ]
        },
        {
          "output_type": "execute_result",
          "data": {
            "text/plain": [
              "96.09"
            ]
          },
          "metadata": {},
          "execution_count": 19
        }
      ]
    },
    {
      "cell_type": "markdown",
      "source": [
        "# Concluzii\n"
      ],
      "metadata": {
        "id": "1SkXML126sQA"
      }
    },
    {
      "cell_type": "markdown",
      "source": [
        "## Concluzii după implementarea îmbunătățirilor\n",
        "\n",
        "- **Creșterea acurateței**: Codul inițial atingea o acuratețe de aproximativ 91-93% pe setul de testare, cu erori mai frecvente pe imagini „greu de sesizat”. Prin adăugarea a 5 epoci, mărirea stratului ascuns la 256 de neuroni și introducerea evaluării pe setul de testare, acuratețea a ajuns la 96%- 97%. Aceasta demonstrează că modelul a beneficiat de o capacitate sporită și de antrenare iterativă.\n",
        "  \n",
        "- **Schimbarea tipului de erori**: Interesant, după optimizări, modelul a început să greșească imagini „ușoare” (ex. cifre clare precum „8” sau „9”), spre deosebire de codul inițial, unde erorile apăreau pe imagini mai ambigue. Acest lucru sugerează o posibilă supraînvățare (overfitting) pe pattern-uri specifice din setul de antrenare, cauzată de creșterea complexității modelului fără regularizare suficientă.\n",
        "![Screenshot 2025-03-22 162029.png](data:image/png;base64,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)\n",
        "![Screenshot 2025-03-22 161925.png](data:image/png;base64,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)\n",
        "\n",
        "\n",
        "- **Direcții viitoare**:\n",
        "  - Adăugarea regularizării (ex. `weight_decay` în optimizator) pentru a reduce supraînvățarea.\n",
        "  - Experimentarea cu valori mai mari pentru `time_window` (ex. 50 sau 100) pentru a stabiliza codarea Poisson.\n",
        "  - Analiza detaliată a erorilor cu o matrice de confuzie pentru a identifica clasele problematice.\n"
      ],
      "metadata": {
        "id": "7OdUKVSs6zxN"
      }
    }
  ]
}